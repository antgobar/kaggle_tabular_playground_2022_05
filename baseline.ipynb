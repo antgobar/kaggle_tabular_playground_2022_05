{
 "cells": [
  {
   "cell_type": "code",
   "execution_count": 1,
   "metadata": {},
   "outputs": [],
   "source": [
    "import pandas as pd\n",
    "from helpers.helper_functions import load_data, encode_string_value, get_prepared_data\n"
   ]
  },
  {
   "cell_type": "markdown",
   "metadata": {},
   "source": [
    "## Load data"
   ]
  },
  {
   "cell_type": "code",
   "execution_count": 2,
   "metadata": {},
   "outputs": [],
   "source": [
    "train, test = load_data('data')\n",
    "X,y = train.drop('target', axis=1), train.target\n",
    "X = get_prepared_data(X)"
   ]
  },
  {
   "cell_type": "markdown",
   "metadata": {},
   "source": [
    "## ML "
   ]
  },
  {
   "cell_type": "code",
   "execution_count": 3,
   "metadata": {},
   "outputs": [],
   "source": [
    "from sklearn.ensemble import RandomForestClassifier\n",
    "from sklearn.model_selection import KFold \n",
    "from sklearn.metrics import roc_auc_score, roc_curve, auc"
   ]
  },
  {
   "cell_type": "code",
   "execution_count": 4,
   "metadata": {},
   "outputs": [
    {
     "name": "stdout",
     "output_type": "stream",
     "text": [
      "~~~~~~~~~~~~~~~~~~~~~~~~~~~~~~~~~~~~~~~~~~~~~~~~~~~~~~~~~~~~\n",
      "Fold 1\n",
      "auc for this fold is 0.8270352398391436\n",
      "~~~~~~~~~~~~~~~~~~~~~~~~~~~~~~~~~~~~~~~~~~~~~~~~~~~~~~~~~~~~\n",
      "Fold 2\n",
      "auc for this fold is 0.8263145667126499\n",
      "~~~~~~~~~~~~~~~~~~~~~~~~~~~~~~~~~~~~~~~~~~~~~~~~~~~~~~~~~~~~\n",
      "Fold 3\n",
      "auc for this fold is 0.8277017748765498\n",
      "~~~~~~~~~~~~~~~~~~~~~~~~~~~~~~~~~~~~~~~~~~~~~~~~~~~~~~~~~~~~\n",
      "Fold 4\n",
      "auc for this fold is 0.8279655782513753\n",
      "~~~~~~~~~~~~~~~~~~~~~~~~~~~~~~~~~~~~~~~~~~~~~~~~~~~~~~~~~~~~\n",
      "Fold 5\n",
      "auc for this fold is 0.8280503764835668\n"
     ]
    }
   ],
   "source": [
    "fold_scores = []\n",
    "k_fold = KFold(n_splits=5, shuffle=True, random_state=4)\n",
    "for fold, (train_idx, val_idx) in enumerate(k_fold.split(X, y)):\n",
    "    print('~' * 60)\n",
    "    print(f'Fold {fold + 1}')\n",
    "\n",
    "    X_train, y_train = X.iloc[train_idx,:], y[train_idx]\n",
    "    X_val, y_val = X.iloc[val_idx,:], y[val_idx]\n",
    "    \n",
    "    rf_classifier = RandomForestClassifier().fit(X_train, y_train)\n",
    "\n",
    "    preds_prob = rf_classifier.predict(X_val)\n",
    "    auc_score=roc_auc_score(y_val, preds_prob)\n",
    "    print(f\"auc for this fold is {auc_score}\")\n",
    "    fold_scores.append(auc_score)"
   ]
  }
 ],
 "metadata": {
  "interpreter": {
   "hash": "bde5e1f7b796a682a06c8eaba79816a1d991d2e6fa8c73d37f152ca65472f55c"
  },
  "kernelspec": {
   "display_name": "Python 3.9.7 ('venv': venv)",
   "language": "python",
   "name": "python3"
  },
  "language_info": {
   "codemirror_mode": {
    "name": "ipython",
    "version": 3
   },
   "file_extension": ".py",
   "mimetype": "text/x-python",
   "name": "python",
   "nbconvert_exporter": "python",
   "pygments_lexer": "ipython3",
   "version": "3.9.7"
  },
  "orig_nbformat": 4
 },
 "nbformat": 4,
 "nbformat_minor": 2
}
