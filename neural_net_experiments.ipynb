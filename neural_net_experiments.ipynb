{
 "cells": [
  {
   "cell_type": "code",
   "execution_count": null,
   "metadata": {},
   "outputs": [
    {
     "ename": "",
     "evalue": "",
     "output_type": "error",
     "traceback": [
      "\u001b[1;31mFailed to start the Kernel. \n",
      "Unable to start Kernel 'venv (Python 3.9.7)' due to connection timeout. \n",
      "View Jupyter <a href='command:jupyter.viewOutput'>log</a> for further details."
     ]
    }
   ],
   "source": [
    "\n",
    "from helpers.helper_functions import load_data, get_prepared_data\n",
    "\n",
    "from tensorflow import keras\n",
    "from helpers.train_helpers import train_model\n",
    "\n",
    "import matplotlib.pyplot as plt\n",
    "\n",
    "train, test = load_data('data')\n",
    "X,y = train.drop('target', axis=1), train.target\n",
    "X = get_prepared_data(X)"
   ]
  },
  {
   "cell_type": "code",
   "execution_count": null,
   "metadata": {},
   "outputs": [],
   "source": [
    "import random\n",
    "random.seed(42)"
   ]
  },
  {
   "cell_type": "code",
   "execution_count": null,
   "metadata": {},
   "outputs": [],
   "source": [
    "INPUT_SHAPE = X.shape[1]"
   ]
  },
  {
   "cell_type": "code",
   "execution_count": null,
   "metadata": {},
   "outputs": [],
   "source": [
    "# models \n",
    "model_1 = keras.models.Sequential(\n",
    "    [\n",
    "        keras.layers.Dense(50, activation=\"swish\", input_dim = INPUT_SHAPE),\n",
    "        keras.layers.Dense(1, activation=\"sigmoid\"),\n",
    "    ],\n",
    "    name=\"Dense_model_1\",\n",
    ")\n",
    "\n",
    "model_2 = keras.models.Sequential(\n",
    "    [\n",
    "        keras.layers.Dense(50, activation=\"swish\", input_dim = INPUT_SHAPE),\n",
    "        keras.layers.Dense(25, activation=\"swish\"),\n",
    "        keras.layers.Dense(1, activation=\"sigmoid\"),\n",
    "    ],\n",
    "    name=\"Dense_model_2\",\n",
    ")\n",
    "\n",
    "model_3 = keras.models.Sequential(\n",
    "    [\n",
    "        keras.layers.Dense(100, activation=\"swish\", input_dim = INPUT_SHAPE),\n",
    "        keras.layers.Dense(50, activation=\"swish\"),\n",
    "        keras.layers.Dense(1, activation=\"sigmoid\"),\n",
    "    ],\n",
    "    name=\"Dense_model_3\",\n",
    ")\n",
    "\n",
    "model_4 = keras.models.Sequential(\n",
    "    [\n",
    "        keras.layers.Dense(200, activation=\"swish\", input_dim = INPUT_SHAPE),\n",
    "        keras.layers.Dense(100, activation=\"swish\"),\n",
    "        keras.layers.Dense(50, activation=\"swish\"),\n",
    "        keras.layers.Dense(1, activation=\"sigmoid\"),\n",
    "    ],\n",
    "    name=\"Dense_model_4\",\n",
    ")\n",
    "\n",
    "model_5 = keras.models.Sequential(\n",
    "    [\n",
    "        keras.layers.Dense(400, activation=\"swish\", input_dim = INPUT_SHAPE),\n",
    "        keras.layers.Dense(200, activation=\"swish\"),\n",
    "        keras.layers.Dense(100, activation=\"swish\"),\n",
    "        keras.layers.Dense(50, activation=\"swish\"),\n",
    "        keras.layers.Dense(1, activation=\"sigmoid\"),\n",
    "    ],\n",
    "    name=\"Dense_model_5\",\n",
    ")"
   ]
  },
  {
   "cell_type": "code",
   "execution_count": null,
   "metadata": {},
   "outputs": [],
   "source": [
    "# WILL REMOVE AFTER DEVELOPMENT\n",
    "X, y= X[:200, :], y[:200, :]"
   ]
  },
  {
   "cell_type": "code",
   "execution_count": null,
   "metadata": {},
   "outputs": [],
   "source": [
    "models = [model_1, model_2, model_3, model_4, model_5] \n",
    "model_dict = {}\n",
    "for i, model_in in enumerate(models):\n",
    "    val_auc = train_model(X, y, model_in)\n",
    "    model_dict[model_in.name] = val_auc\n"
   ]
  },
  {
   "cell_type": "code",
   "execution_count": null,
   "metadata": {},
   "outputs": [],
   "source": [
    "names, counts = zip(*model_dict.items())\n",
    "plt.bar(names, counts)\n",
    "plt.title(f\"AUCs for each model\", fontsize=16)\n",
    "plt.xlabel(\"Model\", fontsize=16)\n",
    "plt.ylabel(\"AUC\", fontsize=16)\n",
    "plt.tick_params(labelsize=10)\n",
    "plt.xticks(rotation=30)\n",
    "plt.show()"
   ]
  }
 ],
 "metadata": {
  "interpreter": {
   "hash": "bde5e1f7b796a682a06c8eaba79816a1d991d2e6fa8c73d37f152ca65472f55c"
  },
  "kernelspec": {
   "display_name": "Python 3.9.7 ('venv': venv)",
   "language": "python",
   "name": "python3"
  },
  "language_info": {
   "name": "python",
   "version": "3.9.7"
  },
  "orig_nbformat": 4
 },
 "nbformat": 4,
 "nbformat_minor": 2
}
