{
 "cells": [
  {
   "cell_type": "code",
   "execution_count": 1,
   "metadata": {},
   "outputs": [],
   "source": [
    "import pandas as pd\n",
    "from helpers.helper_functions import load_data, get_scaled_data\n"
   ]
  },
  {
   "cell_type": "markdown",
   "metadata": {},
   "source": [
    "## Load data"
   ]
  },
  {
   "cell_type": "code",
   "execution_count": 2,
   "metadata": {},
   "outputs": [],
   "source": [
    "train, test = load_data('data')\n",
    "X_train, y_train = pd.read_csv('data/X_prepped.csv'), train.target\n",
    "X_test = get_scaled_data(test, is_test=True)"
   ]
  },
  {
   "cell_type": "markdown",
   "metadata": {},
   "source": [
    "## ML "
   ]
  },
  {
   "cell_type": "code",
   "execution_count": null,
   "metadata": {},
   "outputs": [],
   "source": [
    "from tensorflow import keras\n",
    "from sklearn.model_selection import KFold\n",
    "from sklearn.metrics import roc_auc_score\n",
    "from helpers.train_helpers import BATCH_SIZE, EPOCHS"
   ]
  },
  {
   "cell_type": "code",
   "execution_count": null,
   "metadata": {},
   "outputs": [],
   "source": [
    "\n",
    "INPUT_SHAPE = X_test.shape[1]\n",
    "model_3 = keras.models.Sequential(\n",
    "    [\n",
    "        keras.layers.Dense(100, activation=\"swish\", input_dim = INPUT_SHAPE),\n",
    "        keras.layers.Dense(50, activation=\"swish\"),\n",
    "        keras.layers.Dense(1, activation=\"sigmoid\"),\n",
    "    ],\n",
    "    name=\"Dense_model_3\",\n",
    ")"
   ]
  },
  {
   "cell_type": "code",
   "execution_count": null,
   "metadata": {},
   "outputs": [],
   "source": [
    "def test_predictor(model_in, X_train, y_train, X_test, n_folds = 5):\n",
    "    early_stopping = keras.callbacks.EarlyStopping(\n",
    "                    patience=20, monitor=\"val_loss\", restore_best_weights=True, verbose = 1\n",
    "                )\n",
    "    learn_reducer = keras.callbacks.ReduceLROnPlateau(monitor = 'val_loss', factor = 0.7, patience = 5, verbose = 1)\n",
    "    kf = KFold(n_folds)\n",
    "    store = []\n",
    "\n",
    "    model_in.summary()\n",
    "\n",
    "    for fold, (train_idx, val_idx) in enumerate(\n",
    "        kf.split(train)\n",
    "    ):\n",
    "        \n",
    "        print(f\"Fitting fold {fold} for {model_in.name}...\")\n",
    "        model = keras.models.clone_model(model_in)\n",
    "        model.compile(\n",
    "            optimizer=\"adam\", loss=\"binary_crossentropy\", metrics=[keras.metrics.AUC()]\n",
    "        )\n",
    "\n",
    "        X_train, X_val = X_train.iloc[train_idx], X_train.iloc[val_idx]\n",
    "        y_train, y_val = y_train.iloc[train_idx], y_train.iloc[val_idx]\n",
    "\n",
    "        model.fit(\n",
    "            X_train,\n",
    "            y_train,\n",
    "            validation_data=(X_val, y_val),\n",
    "            epochs=EPOCHS,\n",
    "            verbose=1,\n",
    "            batch_size=BATCH_SIZE,\n",
    "            callbacks=[\n",
    "                early_stopping, learn_reducer\n",
    "            ],\n",
    "        )\n",
    "        auc = roc_auc_score(y_val, model.predict(X_val).squeeze())\n",
    "        print(f\"The val auc for fold {fold}, {model_in.name} is {auc}\")\n",
    "        store.append(model.predict(X_test).squeeze())\n",
    "\n",
    "    result = sum(store) / n_folds \n",
    "    return result"
   ]
  },
  {
   "cell_type": "code",
   "execution_count": null,
   "metadata": {},
   "outputs": [],
   "source": [
    "preds = test_predictor(model_3, X_train, y_train, X_test, n_folds = 5)"
   ]
  },
  {
   "cell_type": "code",
   "execution_count": null,
   "metadata": {},
   "outputs": [],
   "source": [
    "sub = pd.read_csv('data/sample_submission.csv')\n",
    "sub['state'] = preds.round()"
   ]
  },
  {
   "cell_type": "code",
   "execution_count": 3,
   "metadata": {},
   "outputs": [],
   "source": [
    "import os\n",
    "if not os.path.exists('data/submissions'):\n",
    "    os.mkdir('data/submissions')\n",
    "\n",
    "sub.to_csv('data/submissions/nn_sub.csv', index = False)"
   ]
  }
 ],
 "metadata": {
  "interpreter": {
   "hash": "748e94d17ea178bd88fa7222e32cd8a3aee3702bf3f6a8e8cbd3fee18cb98607"
  },
  "kernelspec": {
   "display_name": "Python 3.9.7 64-bit",
   "language": "python",
   "name": "python3"
  },
  "language_info": {
   "codemirror_mode": {
    "name": "ipython",
    "version": 3
   },
   "file_extension": ".py",
   "mimetype": "text/x-python",
   "name": "python",
   "nbconvert_exporter": "python",
   "pygments_lexer": "ipython3",
   "version": "3.9.7"
  },
  "orig_nbformat": 4
 },
 "nbformat": 4,
 "nbformat_minor": 2
}
